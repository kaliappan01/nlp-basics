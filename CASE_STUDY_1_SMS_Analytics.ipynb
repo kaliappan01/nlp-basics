{
  "nbformat": 4,
  "nbformat_minor": 0,
  "metadata": {
    "colab": {
      "name": "CASE_STUDY 1: SMS Analytics",
      "provenance": [],
      "collapsed_sections": [],
      "authorship_tag": "ABX9TyMABELIsnMDRB73adVqV42F",
      "include_colab_link": true
    },
    "kernelspec": {
      "name": "python3",
      "display_name": "Python 3"
    },
    "language_info": {
      "name": "python"
    }
  },
  "cells": [
    {
      "cell_type": "markdown",
      "metadata": {
        "id": "view-in-github",
        "colab_type": "text"
      },
      "source": [
        "<a href=\"https://colab.research.google.com/github/kaliappan01/nlp-basics/blob/main/CASE_STUDY_1_SMS_Analytics.ipynb\" target=\"_parent\"><img src=\"https://colab.research.google.com/assets/colab-badge.svg\" alt=\"Open In Colab\"/></a>"
      ]
    },
    {
      "cell_type": "code",
      "execution_count": null,
      "metadata": {
        "id": "Rc3TSIBvLbLL"
      },
      "outputs": [],
      "source": [
        "import nltk\n",
        "!pip install pattern\n",
        "import pattern\n",
        "import pandas as pd\n",
        "import numpy as np\n",
        "\n",
        "from nltk.corpus import stopwords\n",
        "nltk.download('stopwords')"
      ]
    },
    {
      "cell_type": "code",
      "source": [
        "train_data = pd.read_csv('/content/SMS_train.csv', encoding='cp1252')"
      ],
      "metadata": {
        "id": "IPeCO9ZrLyD5"
      },
      "execution_count": 2,
      "outputs": []
    },
    {
      "cell_type": "code",
      "source": [
        "train_data.head(10)"
      ],
      "metadata": {
        "colab": {
          "base_uri": "https://localhost:8080/",
          "height": 363
        },
        "id": "sS-NoeGyLym2",
        "outputId": "c68fb325-2504-4823-b324-10bc69d0facd"
      },
      "execution_count": 3,
      "outputs": [
        {
          "output_type": "execute_result",
          "data": {
            "text/plain": [
              "   S. No.                                       Message_body     Label\n",
              "0       1                         Rofl. Its true to its name  Non-Spam\n",
              "1       2  The guy did some bitching but I acted like i'd...  Non-Spam\n",
              "2       3  Pity, * was in mood for that. So...any other s...  Non-Spam\n",
              "3       4               Will ü b going to esplanade fr home?  Non-Spam\n",
              "4       5  This is the 2nd time we have tried 2 contact u...      Spam\n",
              "5       6  REMINDER FROM O2: To get 2.50 pounds free call...      Spam\n",
              "6       7                                       Huh y lei...  Non-Spam\n",
              "7       8  Why don't you wait 'til at least wednesday to ...  Non-Spam\n",
              "8       9                                Ard 6 like dat lor.  Non-Spam\n",
              "9      10  Ok lor... Sony ericsson salesman... I ask shuh...  Non-Spam"
            ],
            "text/html": [
              "\n",
              "  <div id=\"df-95de3f1c-3409-4a8f-834f-e26f77156622\">\n",
              "    <div class=\"colab-df-container\">\n",
              "      <div>\n",
              "<style scoped>\n",
              "    .dataframe tbody tr th:only-of-type {\n",
              "        vertical-align: middle;\n",
              "    }\n",
              "\n",
              "    .dataframe tbody tr th {\n",
              "        vertical-align: top;\n",
              "    }\n",
              "\n",
              "    .dataframe thead th {\n",
              "        text-align: right;\n",
              "    }\n",
              "</style>\n",
              "<table border=\"1\" class=\"dataframe\">\n",
              "  <thead>\n",
              "    <tr style=\"text-align: right;\">\n",
              "      <th></th>\n",
              "      <th>S. No.</th>\n",
              "      <th>Message_body</th>\n",
              "      <th>Label</th>\n",
              "    </tr>\n",
              "  </thead>\n",
              "  <tbody>\n",
              "    <tr>\n",
              "      <th>0</th>\n",
              "      <td>1</td>\n",
              "      <td>Rofl. Its true to its name</td>\n",
              "      <td>Non-Spam</td>\n",
              "    </tr>\n",
              "    <tr>\n",
              "      <th>1</th>\n",
              "      <td>2</td>\n",
              "      <td>The guy did some bitching but I acted like i'd...</td>\n",
              "      <td>Non-Spam</td>\n",
              "    </tr>\n",
              "    <tr>\n",
              "      <th>2</th>\n",
              "      <td>3</td>\n",
              "      <td>Pity, * was in mood for that. So...any other s...</td>\n",
              "      <td>Non-Spam</td>\n",
              "    </tr>\n",
              "    <tr>\n",
              "      <th>3</th>\n",
              "      <td>4</td>\n",
              "      <td>Will ü b going to esplanade fr home?</td>\n",
              "      <td>Non-Spam</td>\n",
              "    </tr>\n",
              "    <tr>\n",
              "      <th>4</th>\n",
              "      <td>5</td>\n",
              "      <td>This is the 2nd time we have tried 2 contact u...</td>\n",
              "      <td>Spam</td>\n",
              "    </tr>\n",
              "    <tr>\n",
              "      <th>5</th>\n",
              "      <td>6</td>\n",
              "      <td>REMINDER FROM O2: To get 2.50 pounds free call...</td>\n",
              "      <td>Spam</td>\n",
              "    </tr>\n",
              "    <tr>\n",
              "      <th>6</th>\n",
              "      <td>7</td>\n",
              "      <td>Huh y lei...</td>\n",
              "      <td>Non-Spam</td>\n",
              "    </tr>\n",
              "    <tr>\n",
              "      <th>7</th>\n",
              "      <td>8</td>\n",
              "      <td>Why don't you wait 'til at least wednesday to ...</td>\n",
              "      <td>Non-Spam</td>\n",
              "    </tr>\n",
              "    <tr>\n",
              "      <th>8</th>\n",
              "      <td>9</td>\n",
              "      <td>Ard 6 like dat lor.</td>\n",
              "      <td>Non-Spam</td>\n",
              "    </tr>\n",
              "    <tr>\n",
              "      <th>9</th>\n",
              "      <td>10</td>\n",
              "      <td>Ok lor... Sony ericsson salesman... I ask shuh...</td>\n",
              "      <td>Non-Spam</td>\n",
              "    </tr>\n",
              "  </tbody>\n",
              "</table>\n",
              "</div>\n",
              "      <button class=\"colab-df-convert\" onclick=\"convertToInteractive('df-95de3f1c-3409-4a8f-834f-e26f77156622')\"\n",
              "              title=\"Convert this dataframe to an interactive table.\"\n",
              "              style=\"display:none;\">\n",
              "        \n",
              "  <svg xmlns=\"http://www.w3.org/2000/svg\" height=\"24px\"viewBox=\"0 0 24 24\"\n",
              "       width=\"24px\">\n",
              "    <path d=\"M0 0h24v24H0V0z\" fill=\"none\"/>\n",
              "    <path d=\"M18.56 5.44l.94 2.06.94-2.06 2.06-.94-2.06-.94-.94-2.06-.94 2.06-2.06.94zm-11 1L8.5 8.5l.94-2.06 2.06-.94-2.06-.94L8.5 2.5l-.94 2.06-2.06.94zm10 10l.94 2.06.94-2.06 2.06-.94-2.06-.94-.94-2.06-.94 2.06-2.06.94z\"/><path d=\"M17.41 7.96l-1.37-1.37c-.4-.4-.92-.59-1.43-.59-.52 0-1.04.2-1.43.59L10.3 9.45l-7.72 7.72c-.78.78-.78 2.05 0 2.83L4 21.41c.39.39.9.59 1.41.59.51 0 1.02-.2 1.41-.59l7.78-7.78 2.81-2.81c.8-.78.8-2.07 0-2.86zM5.41 20L4 18.59l7.72-7.72 1.47 1.35L5.41 20z\"/>\n",
              "  </svg>\n",
              "      </button>\n",
              "      \n",
              "  <style>\n",
              "    .colab-df-container {\n",
              "      display:flex;\n",
              "      flex-wrap:wrap;\n",
              "      gap: 12px;\n",
              "    }\n",
              "\n",
              "    .colab-df-convert {\n",
              "      background-color: #E8F0FE;\n",
              "      border: none;\n",
              "      border-radius: 50%;\n",
              "      cursor: pointer;\n",
              "      display: none;\n",
              "      fill: #1967D2;\n",
              "      height: 32px;\n",
              "      padding: 0 0 0 0;\n",
              "      width: 32px;\n",
              "    }\n",
              "\n",
              "    .colab-df-convert:hover {\n",
              "      background-color: #E2EBFA;\n",
              "      box-shadow: 0px 1px 2px rgba(60, 64, 67, 0.3), 0px 1px 3px 1px rgba(60, 64, 67, 0.15);\n",
              "      fill: #174EA6;\n",
              "    }\n",
              "\n",
              "    [theme=dark] .colab-df-convert {\n",
              "      background-color: #3B4455;\n",
              "      fill: #D2E3FC;\n",
              "    }\n",
              "\n",
              "    [theme=dark] .colab-df-convert:hover {\n",
              "      background-color: #434B5C;\n",
              "      box-shadow: 0px 1px 3px 1px rgba(0, 0, 0, 0.15);\n",
              "      filter: drop-shadow(0px 1px 2px rgba(0, 0, 0, 0.3));\n",
              "      fill: #FFFFFF;\n",
              "    }\n",
              "  </style>\n",
              "\n",
              "      <script>\n",
              "        const buttonEl =\n",
              "          document.querySelector('#df-95de3f1c-3409-4a8f-834f-e26f77156622 button.colab-df-convert');\n",
              "        buttonEl.style.display =\n",
              "          google.colab.kernel.accessAllowed ? 'block' : 'none';\n",
              "\n",
              "        async function convertToInteractive(key) {\n",
              "          const element = document.querySelector('#df-95de3f1c-3409-4a8f-834f-e26f77156622');\n",
              "          const dataTable =\n",
              "            await google.colab.kernel.invokeFunction('convertToInteractive',\n",
              "                                                     [key], {});\n",
              "          if (!dataTable) return;\n",
              "\n",
              "          const docLinkHtml = 'Like what you see? Visit the ' +\n",
              "            '<a target=\"_blank\" href=https://colab.research.google.com/notebooks/data_table.ipynb>data table notebook</a>'\n",
              "            + ' to learn more about interactive tables.';\n",
              "          element.innerHTML = '';\n",
              "          dataTable['output_type'] = 'display_data';\n",
              "          await google.colab.output.renderOutput(dataTable, element);\n",
              "          const docLink = document.createElement('div');\n",
              "          docLink.innerHTML = docLinkHtml;\n",
              "          element.appendChild(docLink);\n",
              "        }\n",
              "      </script>\n",
              "    </div>\n",
              "  </div>\n",
              "  "
            ]
          },
          "metadata": {},
          "execution_count": 3
        }
      ]
    },
    {
      "cell_type": "code",
      "source": [
        "train_data['Message_body']=train_data['Message_body'].apply(lambda r: r.lower())\n",
        "train_data.head(5)"
      ],
      "metadata": {
        "colab": {
          "base_uri": "https://localhost:8080/",
          "height": 206
        },
        "id": "N5aMOq1FNc-A",
        "outputId": "3047a774-1aa0-4abc-c50d-81b904c91a26"
      },
      "execution_count": 4,
      "outputs": [
        {
          "output_type": "execute_result",
          "data": {
            "text/plain": [
              "   S. No.                                       Message_body     Label\n",
              "0       1                         rofl. its true to its name  Non-Spam\n",
              "1       2  the guy did some bitching but i acted like i'd...  Non-Spam\n",
              "2       3  pity, * was in mood for that. so...any other s...  Non-Spam\n",
              "3       4               will ü b going to esplanade fr home?  Non-Spam\n",
              "4       5  this is the 2nd time we have tried 2 contact u...      Spam"
            ],
            "text/html": [
              "\n",
              "  <div id=\"df-13a870b3-9e58-497c-a40f-f5184986b48e\">\n",
              "    <div class=\"colab-df-container\">\n",
              "      <div>\n",
              "<style scoped>\n",
              "    .dataframe tbody tr th:only-of-type {\n",
              "        vertical-align: middle;\n",
              "    }\n",
              "\n",
              "    .dataframe tbody tr th {\n",
              "        vertical-align: top;\n",
              "    }\n",
              "\n",
              "    .dataframe thead th {\n",
              "        text-align: right;\n",
              "    }\n",
              "</style>\n",
              "<table border=\"1\" class=\"dataframe\">\n",
              "  <thead>\n",
              "    <tr style=\"text-align: right;\">\n",
              "      <th></th>\n",
              "      <th>S. No.</th>\n",
              "      <th>Message_body</th>\n",
              "      <th>Label</th>\n",
              "    </tr>\n",
              "  </thead>\n",
              "  <tbody>\n",
              "    <tr>\n",
              "      <th>0</th>\n",
              "      <td>1</td>\n",
              "      <td>rofl. its true to its name</td>\n",
              "      <td>Non-Spam</td>\n",
              "    </tr>\n",
              "    <tr>\n",
              "      <th>1</th>\n",
              "      <td>2</td>\n",
              "      <td>the guy did some bitching but i acted like i'd...</td>\n",
              "      <td>Non-Spam</td>\n",
              "    </tr>\n",
              "    <tr>\n",
              "      <th>2</th>\n",
              "      <td>3</td>\n",
              "      <td>pity, * was in mood for that. so...any other s...</td>\n",
              "      <td>Non-Spam</td>\n",
              "    </tr>\n",
              "    <tr>\n",
              "      <th>3</th>\n",
              "      <td>4</td>\n",
              "      <td>will ü b going to esplanade fr home?</td>\n",
              "      <td>Non-Spam</td>\n",
              "    </tr>\n",
              "    <tr>\n",
              "      <th>4</th>\n",
              "      <td>5</td>\n",
              "      <td>this is the 2nd time we have tried 2 contact u...</td>\n",
              "      <td>Spam</td>\n",
              "    </tr>\n",
              "  </tbody>\n",
              "</table>\n",
              "</div>\n",
              "      <button class=\"colab-df-convert\" onclick=\"convertToInteractive('df-13a870b3-9e58-497c-a40f-f5184986b48e')\"\n",
              "              title=\"Convert this dataframe to an interactive table.\"\n",
              "              style=\"display:none;\">\n",
              "        \n",
              "  <svg xmlns=\"http://www.w3.org/2000/svg\" height=\"24px\"viewBox=\"0 0 24 24\"\n",
              "       width=\"24px\">\n",
              "    <path d=\"M0 0h24v24H0V0z\" fill=\"none\"/>\n",
              "    <path d=\"M18.56 5.44l.94 2.06.94-2.06 2.06-.94-2.06-.94-.94-2.06-.94 2.06-2.06.94zm-11 1L8.5 8.5l.94-2.06 2.06-.94-2.06-.94L8.5 2.5l-.94 2.06-2.06.94zm10 10l.94 2.06.94-2.06 2.06-.94-2.06-.94-.94-2.06-.94 2.06-2.06.94z\"/><path d=\"M17.41 7.96l-1.37-1.37c-.4-.4-.92-.59-1.43-.59-.52 0-1.04.2-1.43.59L10.3 9.45l-7.72 7.72c-.78.78-.78 2.05 0 2.83L4 21.41c.39.39.9.59 1.41.59.51 0 1.02-.2 1.41-.59l7.78-7.78 2.81-2.81c.8-.78.8-2.07 0-2.86zM5.41 20L4 18.59l7.72-7.72 1.47 1.35L5.41 20z\"/>\n",
              "  </svg>\n",
              "      </button>\n",
              "      \n",
              "  <style>\n",
              "    .colab-df-container {\n",
              "      display:flex;\n",
              "      flex-wrap:wrap;\n",
              "      gap: 12px;\n",
              "    }\n",
              "\n",
              "    .colab-df-convert {\n",
              "      background-color: #E8F0FE;\n",
              "      border: none;\n",
              "      border-radius: 50%;\n",
              "      cursor: pointer;\n",
              "      display: none;\n",
              "      fill: #1967D2;\n",
              "      height: 32px;\n",
              "      padding: 0 0 0 0;\n",
              "      width: 32px;\n",
              "    }\n",
              "\n",
              "    .colab-df-convert:hover {\n",
              "      background-color: #E2EBFA;\n",
              "      box-shadow: 0px 1px 2px rgba(60, 64, 67, 0.3), 0px 1px 3px 1px rgba(60, 64, 67, 0.15);\n",
              "      fill: #174EA6;\n",
              "    }\n",
              "\n",
              "    [theme=dark] .colab-df-convert {\n",
              "      background-color: #3B4455;\n",
              "      fill: #D2E3FC;\n",
              "    }\n",
              "\n",
              "    [theme=dark] .colab-df-convert:hover {\n",
              "      background-color: #434B5C;\n",
              "      box-shadow: 0px 1px 3px 1px rgba(0, 0, 0, 0.15);\n",
              "      filter: drop-shadow(0px 1px 2px rgba(0, 0, 0, 0.3));\n",
              "      fill: #FFFFFF;\n",
              "    }\n",
              "  </style>\n",
              "\n",
              "      <script>\n",
              "        const buttonEl =\n",
              "          document.querySelector('#df-13a870b3-9e58-497c-a40f-f5184986b48e button.colab-df-convert');\n",
              "        buttonEl.style.display =\n",
              "          google.colab.kernel.accessAllowed ? 'block' : 'none';\n",
              "\n",
              "        async function convertToInteractive(key) {\n",
              "          const element = document.querySelector('#df-13a870b3-9e58-497c-a40f-f5184986b48e');\n",
              "          const dataTable =\n",
              "            await google.colab.kernel.invokeFunction('convertToInteractive',\n",
              "                                                     [key], {});\n",
              "          if (!dataTable) return;\n",
              "\n",
              "          const docLinkHtml = 'Like what you see? Visit the ' +\n",
              "            '<a target=\"_blank\" href=https://colab.research.google.com/notebooks/data_table.ipynb>data table notebook</a>'\n",
              "            + ' to learn more about interactive tables.';\n",
              "          element.innerHTML = '';\n",
              "          dataTable['output_type'] = 'display_data';\n",
              "          await google.colab.output.renderOutput(dataTable, element);\n",
              "          const docLink = document.createElement('div');\n",
              "          docLink.innerHTML = docLinkHtml;\n",
              "          element.appendChild(docLink);\n",
              "        }\n",
              "      </script>\n",
              "    </div>\n",
              "  </div>\n",
              "  "
            ]
          },
          "metadata": {},
          "execution_count": 4
        }
      ]
    },
    {
      "cell_type": "code",
      "source": [
        "nltk.download('punkt')"
      ],
      "metadata": {
        "colab": {
          "base_uri": "https://localhost:8080/"
        },
        "id": "zRswlV7MU6gc",
        "outputId": "63a67278-54a3-4410-a1d4-d9d9271dd451"
      },
      "execution_count": 5,
      "outputs": [
        {
          "output_type": "stream",
          "name": "stderr",
          "text": [
            "[nltk_data] Downloading package punkt to /root/nltk_data...\n",
            "[nltk_data]   Unzipping tokenizers/punkt.zip.\n"
          ]
        },
        {
          "output_type": "execute_result",
          "data": {
            "text/plain": [
              "True"
            ]
          },
          "metadata": {},
          "execution_count": 5
        }
      ]
    },
    {
      "cell_type": "markdown",
      "source": [
        "Abbreviations map construction"
      ],
      "metadata": {
        "id": "hU-zt8olXCPJ"
      }
    },
    {
      "cell_type": "code",
      "source": [
        "f = open('/content/chat_abbreviations.txt','r')\n",
        "abbreviations_map2 = dict()\n",
        "for l in f.readlines():\n",
        "  i = l.find(' ')\n",
        "  abbreviations_map2[l[:i].lower()] = l[i:].strip().lower()\n",
        "abbreviations_map2"
      ],
      "metadata": {
        "id": "9fNxE072bKJc",
        "colab": {
          "base_uri": "https://localhost:8080/"
        },
        "outputId": "b74395cf-a49c-4f51-bc3a-35c4f5d06df0"
      },
      "execution_count": 7,
      "outputs": [
        {
          "output_type": "execute_result",
          "data": {
            "text/plain": [
              "{'1-d-r': 'i wonder',\n",
              " '10': '',\n",
              " '11': '',\n",
              " '12': '',\n",
              " '121': 'one to one',\n",
              " '143': 'i love you',\n",
              " '14aa41': 'one for all and all for one',\n",
              " '2': '',\n",
              " '3': '',\n",
              " '4': '',\n",
              " '411': 'information',\n",
              " '4ever': 'forever',\n",
              " '5': '',\n",
              " '6': '',\n",
              " '7': '',\n",
              " '8': '',\n",
              " '86': 'over',\n",
              " '9': '',\n",
              " 'a/s/l/m/h?': 'age, sex, location, music, hobbies',\n",
              " 'a/s/l?': 'age, sex, location',\n",
              " 'aaf': 'as a friend',\n",
              " 'aak': 'alive and kicking',\n",
              " 'aamof': 'as a matter of fact',\n",
              " 'aar': 'at any rate',\n",
              " 'aas': 'alive and smiling',\n",
              " 'aatk': 'always at the keyboard',\n",
              " 'abt2': 'about to',\n",
              " 'afaik': 'as far as i know',\n",
              " 'afk': 'away from keyboard',\n",
              " 'afn': 'that’s all for now',\n",
              " 'aka': 'also known as',\n",
              " 'alol': 'actually laughing out loud',\n",
              " 'and': 'any day now',\n",
              " 'aota': 'all of the above',\n",
              " 'are': 'acronym-rich environment',\n",
              " 'asap': 'as soon as possible',\n",
              " 'aysos': 'are you stupid or something',\n",
              " 'aytmtb': 'and you are telling me this because',\n",
              " 'b4': 'before',\n",
              " 'b4n': 'bye for now',\n",
              " 'bag': 'busting a gut',\n",
              " 'bak': 'back at the keyboard',\n",
              " 'bbbg': 'bye bye be good',\n",
              " 'bbiab': 'be back in a bit',\n",
              " 'bbiaf': 'be back in a few',\n",
              " 'bbias': 'be back in a sec',\n",
              " 'bbl': 'be back later',\n",
              " 'bbml': 'be back much later',\n",
              " 'bbn': 'bye bye now',\n",
              " 'bbs': 'be back soon',\n",
              " 'bbsl': 'be back sooner or later',\n",
              " 'bcnu': 'i’ll be seeing you',\n",
              " 'bd': 'big deal',\n",
              " 'beg': 'big evil grin',\n",
              " 'bf': 'boyfriend',\n",
              " 'bff': 'best friends forever',\n",
              " 'bfn': 'bye for now',\n",
              " 'bg': 'big grin',\n",
              " 'bioyn': 'blow it out your nose',\n",
              " 'bka': 'better known as',\n",
              " 'bl': 'belly laughing',\n",
              " 'br': 'best regards',\n",
              " 'brb': 'be right back',\n",
              " 'brh': 'be right here',\n",
              " 'brt': 'be right there',\n",
              " 'bta': 'but then again',\n",
              " 'bthoom': 'beats the heck out of me',\n",
              " 'btw': 'by the way',\n",
              " 'bwl': 'bursting with laughter',\n",
              " 'bwo': 'black/white/other',\n",
              " 'bwthdik': 'but what the heck do i know',\n",
              " 'bykt': 'but you knew that',\n",
              " 'c&g': 'chuckle & grin',\n",
              " 'cb': 'chat brat',\n",
              " 'cid': 'crying in disgrace',\n",
              " 'cmf': 'count my fingers',\n",
              " 'cnp': 'continued (in my) next post',\n",
              " 'cp': 'chat post',\n",
              " 'crbt': 'crying real big tears',\n",
              " 'crtla': 'can’t remember the three letter acronym',\n",
              " 'csg': 'chuckle, snicker, grin',\n",
              " 'csl': 'can’t stop laughing',\n",
              " 'cu': 'see you',\n",
              " 'cul': 'or cul8er see you later',\n",
              " 'cuns': 'see you in school',\n",
              " 'cuol': 'see you online',\n",
              " 'cuz': 'because',\n",
              " 'cwyl': 'chat with you later',\n",
              " 'cy': 'calm yourself',\n",
              " 'cya': 'see ya',\n",
              " 'cyl': 'see you later',\n",
              " 'cyo': 'see you online',\n",
              " 'cyt': 'see you tomorrow',\n",
              " 'dbeyr': 'don’t believe everything you read',\n",
              " 'degt': 'don’t even go there',\n",
              " 'deti': 'don’t even think about it',\n",
              " 'df': 'dear friend',\n",
              " 'dga': 'don’t go anywhere',\n",
              " 'dgt': 'don’t go there',\n",
              " 'dh': 'dear hubby',\n",
              " 'dhyb': 'don’t hold your breath',\n",
              " 'diku': 'do i know you?',\n",
              " 'diy': 'do it yourself',\n",
              " 'dkdc': 'don’t know don’t care',\n",
              " 'dl': 'dead link',\n",
              " 'dltbbb': 'don’t let the bed bugs bite',\n",
              " 'dltm': 'don’t lie to me',\n",
              " 'dmi': 'don’t mention it',\n",
              " 'dnc': 'does not compute',\n",
              " 'dqmot': 'don’t quote me on this',\n",
              " 'dust': 'did you see that',\n",
              " 'dyfm': 'dude you fascinate me',\n",
              " 'dyjhiw': 'don’t you just hate it when',\n",
              " 'e123': 'easy as 123',\n",
              " 'eak': 'eating at keyboard',\n",
              " 'eg': 'evil grin',\n",
              " 'el': 'evil laugh',\n",
              " 'em?': 'excuse me?',\n",
              " 'ema': 'what is your e-mail address',\n",
              " 'emfbi': 'excuse me for butting in',\n",
              " 'eom': 'end of message',\n",
              " 'eot': 'end of thread',\n",
              " 'ez': 'easy',\n",
              " 'f2f': 'face to face',\n",
              " 'faq': 'frequently asked question(s)',\n",
              " 'fawc': 'for anyone who cares',\n",
              " 'fc': 'fingers crossed',\n",
              " 'fish': 'first in, still here',\n",
              " 'fitb': 'fill in the blanks',\n",
              " 'fmtyewtk': 'far more than you ever wanted to know',\n",
              " 'foaf': 'friend of a friend',\n",
              " 'focl': 'falling off chair laughing',\n",
              " 'fofl': 'falling on floor laughing',\n",
              " 'fomcl': 'falling off my chair laughing',\n",
              " 'ftbomh': 'from the bottom of my heart',\n",
              " 'fubar': 'fouled up beyond all repairs',\n",
              " 'fud': 'fear, uncertainty, and doubt',\n",
              " 'fwiw': 'for what it’s worth',\n",
              " 'fyi': 'for your information',\n",
              " 'ga': 'go ahead',\n",
              " 'gal': 'get a life',\n",
              " 'gd&r': 'grinning, ducking, & running',\n",
              " 'gf': 'girlfriend',\n",
              " 'gfn': 'gone for now',\n",
              " 'ggoh': 'got to get out of here',\n",
              " 'giwist': 'gee, i wish i’d said that',\n",
              " 'gl': 'good luck',\n",
              " 'gmbo': 'giggling my butt off',\n",
              " 'gmta': 'great minds think alike',\n",
              " 'gol': 'giggling out loud',\n",
              " 'gr': 'got to run',\n",
              " 'gr&d': 'grinning, running, and ducking',\n",
              " 'grrrr': 'growling',\n",
              " 'gtr': 'got to run',\n",
              " 'gtrm': 'going to read mail',\n",
              " 'gtsy': 'glad to see you',\n",
              " 'h&k': 'hug and kiss',\n",
              " 'ha': 'hello again',\n",
              " 'hagd': 'have a great day',\n",
              " 'hagn': 'have a good night',\n",
              " 'hb': 'hurry back',\n",
              " 'hhis': 'hanging head in shame',\n",
              " 'hho1/2k': 'ha ha only half kidding',\n",
              " 'hhok': 'ha ha only joking',\n",
              " 'hhos': 'ha ha only being serious',\n",
              " 'hth': 'hope this helps',\n",
              " 'iac': 'in any case',\n",
              " 'iae': 'in any event',\n",
              " 'ianac': 'i am not a crook',\n",
              " 'ianal': 'i am not a lawyer (but)',\n",
              " 'ib': 'i’m back',\n",
              " 'ibtd': 'i beg to differ',\n",
              " 'ic': 'i see',\n",
              " 'icbw': 'i could be wrong',\n",
              " 'id10t': 'idiot',\n",
              " 'idgi': 'i don’t get it',\n",
              " 'idk': 'i don’t know',\n",
              " 'idky': 'i don’t know you',\n",
              " 'idts': 'i don’t think so',\n",
              " 'ifab': 'i found a bug',\n",
              " 'igtp': 'i get the point',\n",
              " 'iha': 'i hate acronyms',\n",
              " 'ihaim': 'i have another instant message',\n",
              " 'ihno': 'i have no opinion',\n",
              " 'iirc': 'if i remember correctly',\n",
              " 'iiwm': 'if it were me',\n",
              " 'ilu': 'i love you',\n",
              " 'im': 'instant message',\n",
              " 'imho': 'in my humble opinion',\n",
              " 'iming': 'chatting with someone online',\n",
              " 'imnsho': 'in my not so humble opinion',\n",
              " 'imo': 'in my opinion',\n",
              " 'ims': 'i am sorry',\n",
              " 'inmp': 'it’s not my problem',\n",
              " 'ioh': 'i’m outta here',\n",
              " 'iow': 'in other words',\n",
              " 'ipn': 'i’m posting naked',\n",
              " 'irl': 'in real life',\n",
              " 'iss': 'i said so',\n",
              " 'iwalu': 'i will always love you',\n",
              " 'iykwim': 'if you know what i mean',\n",
              " 'iykwimaityd': 'if you know what i mean and i think you do',\n",
              " 'iyo': 'in your opinion',\n",
              " 'iyss': 'if you say so',\n",
              " 'iyswim': 'if you see what i mean',\n",
              " 'j/c': 'just checking',\n",
              " 'jas': 'just a sec',\n",
              " 'jbod': 'just a bunch of disks',\n",
              " 'jic': 'just in case',\n",
              " 'jk': 'just kidding',\n",
              " 'jm2c': 'just my two cents',\n",
              " 'jmo': 'just my opinion',\n",
              " 'jt': 'just teasing',\n",
              " 'jtlyk': 'just to let you know',\n",
              " 'jw': 'just wondering',\n",
              " 'k': 'okay',\n",
              " 'kewl': 'cool',\n",
              " 'kfy': 'kiss for you',\n",
              " 'kir': 'keep it real',\n",
              " 'kit': 'keep in touch',\n",
              " 'koc': 'kiss on cheek',\n",
              " 'kol': 'kiss on lips',\n",
              " 'kwim': 'know what i mean?',\n",
              " 'l2m': 'listening to music',\n",
              " 'l8r': 'later',\n",
              " 'ld': 'later, dude',\n",
              " 'ldr': 'long distance relationship',\n",
              " 'lhm': 'lord help me',\n",
              " 'lhu': 'lord help us',\n",
              " 'llta': 'lots and lots of thunderous applause',\n",
              " 'lmirl': 'let’s meet in real life',\n",
              " 'lmso': 'laughing my socks off',\n",
              " 'lol': 'laughing out loud',\n",
              " 'lshmbb': 'laughing so hard my belly is bouncing',\n",
              " 'lshmbh': 'laughing so hard my belly hurts',\n",
              " 'lsv': 'language, sex, violence',\n",
              " 'ltm': 'laugh to myself',\n",
              " 'ltns': 'long time, no see',\n",
              " 'ltr': 'long term relationship',\n",
              " 'lts': 'laughing to self',\n",
              " 'lulab': 'love you like a brother',\n",
              " 'lulas': 'love you like a sister',\n",
              " 'luwamh': 'love you with all my heart',\n",
              " 'ly': 'love you',\n",
              " 'lyl': 'love you lots',\n",
              " 'm/f': 'male or female',\n",
              " 'm8': 'mate or mates',\n",
              " 'ma': 'mature audience',\n",
              " 'mhbfy': 'my heart bleeds for you',\n",
              " 'mihap': 'may i have your attention please',\n",
              " 'mkop': 'my kind of place',\n",
              " 'moos': 'member of the opposite sex',\n",
              " 'moss': 'member of same sex',\n",
              " 'motos': 'member of the opposite sex',\n",
              " 'msg': 'message',\n",
              " 'mtf': 'more to follow',\n",
              " 'mtfbwy': 'may the force be with you',\n",
              " 'musm': 'miss you so much',\n",
              " 'n-e-1': 'anyone',\n",
              " 'n/p': 'no problem',\n",
              " 'n1': 'nice one',\n",
              " 'n2m': 'not to mention',\n",
              " 'nadt': 'not a darn thing',\n",
              " 'naz': 'name, address, zip',\n",
              " 'ne1': 'anyone',\n",
              " 'ng': 'new game',\n",
              " 'nimby': 'not in my back yard',\n",
              " 'nm': 'never mind',\n",
              " 'noyb': 'not of your business',\n",
              " 'np': 'nosy parents',\n",
              " 'nrn': 'no reply necessary',\n",
              " 'nt': 'no thanks',\n",
              " 'ntk': 'nice to know',\n",
              " 'nuff': 'enough said',\n",
              " 'nw': 'no way!',\n",
              " 'obtw': 'oh by the way',\n",
              " 'of': 'old fart',\n",
              " 'oic': 'oh i see',\n",
              " 'ol': 'old lady',\n",
              " 'oll': 'online love',\n",
              " 'om': 'old man',\n",
              " 'omdb': 'over my dead body',\n",
              " 'omg': 'oh my god',\n",
              " 'onna': 'oh no, not again',\n",
              " 'ot': 'off topic',\n",
              " 'otf': 'off the floor',\n",
              " 'oth': 'off the hook',\n",
              " 'otoh': 'on the other hand',\n",
              " 'otp': 'on the phone',\n",
              " 'ottomh': 'off the top of my head',\n",
              " 'otw': 'on the way',\n",
              " 'p-za': 'pizza',\n",
              " 'p2p': 'peer to peer',\n",
              " 'p911': 'my parents are coming!',\n",
              " 'pa': 'parent alert',\n",
              " 'pal': 'parents are listening',\n",
              " 'panb': 'parents are nearby',\n",
              " 'pans': 'pretty awesome new stuff',\n",
              " 'paw': 'parents are watching',\n",
              " 'pda': 'public display of affection',\n",
              " 'pds': 'please don’t shoot',\n",
              " 'peeps': 'people',\n",
              " 'pir': 'parent in room',\n",
              " 'plz': 'please',\n",
              " 'pm': 'private message',\n",
              " 'pmfjib': 'pardon me for jumping in but….',\n",
              " 'pmji': 'pardon me for jumping in',\n",
              " 'pmp': 'peed my pants',\n",
              " 'po': 'piss off',\n",
              " 'poahf': 'put on a happy face',\n",
              " 'pos': 'parent over shoulder',\n",
              " 'pots': 'plain old telephone service',\n",
              " 'pov': 'point of view',\n",
              " 'ppl': 'people',\n",
              " 'pu': 'that stinks',\n",
              " 'ql': 'quit laughing',\n",
              " 'qsl': 'reply',\n",
              " 'qso': 'conversation',\n",
              " 'qt': 'cutie',\n",
              " 'r&r': 'rest and relaxation',\n",
              " 'r/t': 'real time',\n",
              " 'rbay': 'right back at ya',\n",
              " 'rbtl': 'read between the lines',\n",
              " 'rl': 'real life',\n",
              " 'rlf': 'real life friend',\n",
              " 'rmlb': 'read my lips baby',\n",
              " 'rmmm': 'read my mail man',\n",
              " 'rofl': 'rolling on floor laughing',\n",
              " 'rol': 'raffing out loud',\n",
              " 'rotfl': 'rolling on the floor laughing',\n",
              " 'rpg': 'role playing games',\n",
              " 'rsn': 'real soon now',\n",
              " 'rtbs': 'reason to be single',\n",
              " 'rtfm': 'read the flipping manual',\n",
              " 'ru': 'are you?',\n",
              " 'rumorf': 'are you male or female?',\n",
              " 'ruup4it': 'are you up for it?',\n",
              " 'rx': 'regards',\n",
              " 's4l': 'spam for life',\n",
              " 'scnr': 'sorry, could not resist',\n",
              " 'sed': 'said enough darling',\n",
              " 'sep': 'somebody’s else’s problem',\n",
              " 'sete': 'smiling ear to ear',\n",
              " 'sf': 'surfer friendly',\n",
              " 'sfete': 'smiling from ear to ear',\n",
              " 'sfx': 'sound effects',\n",
              " 'sh': 'same here',\n",
              " 'shcoon': 'shoot hot coffee out of nose',\n",
              " 'shid': 'slaps head in disgust',\n",
              " 'sitd': 'still in the dark',\n",
              " 'slirk': 'smart little rich kid',\n",
              " 'smaim': 'send me an instant message',\n",
              " 'smem': 'send me an e-mail',\n",
              " 'sn': 'screen name',\n",
              " 'snert': 'snot nosed egotistical rude teenager',\n",
              " 'so': 'significant other',\n",
              " 'sohf': 'sense of humor failure',\n",
              " 'somy': 'sick of me yet?',\n",
              " 'sot': 'short of time',\n",
              " 'sotmg': 'short of time, must go',\n",
              " 'spst': 'same place same time',\n",
              " 'str8': 'straight',\n",
              " 'stw': 'search the web',\n",
              " 'stys': 'speak to you soon',\n",
              " 'su': 'shut up',\n",
              " 'sup': 'or wu what’s up',\n",
              " 'suyf': 'shut up you fool',\n",
              " 'swak': 'sealed with a kiss',\n",
              " 'swalk': 'sealed with a loving kiss',\n",
              " 'swdy': 'so what do you think?',\n",
              " 'swl': 'screaming with laughter',\n",
              " 'syl': 'see you later',\n",
              " 'sys': 'see you soon',\n",
              " 'ta': 'thanks again',\n",
              " 'tafn': 'that’s all for now',\n",
              " 'tas': 'taking a shower',\n",
              " 'taw': 'teachers are watching',\n",
              " 'tcob': 'taking care of business',\n",
              " 'tcoy': 'take care of yourself',\n",
              " 'tfh': 'thread from hell',\n",
              " 'tfx': 'traffic',\n",
              " 'tgif': 'thank god it’s friday',\n",
              " 'thx': 'thanks',\n",
              " 'tia': 'thanks in advance',\n",
              " 'tiail': 'i think i am in love',\n",
              " 'tic': 'tongue in cheek',\n",
              " 'tilii': 'tell it like it is',\n",
              " 'tlk2ul8r': 'talk to you later',\n",
              " 'tm': 'trust me',\n",
              " 'tmi': 'too much information',\n",
              " 'tnt': '‘till next time',\n",
              " 'tom': 'tomorrow',\n",
              " 'topca': '‘til our paths cross again',\n",
              " 'tot': 'tons of time',\n",
              " 'toy': 'thinking of you',\n",
              " 'tps': 'that’s pretty stupid',\n",
              " 'tptb': 'the powers that be',\n",
              " 'trdmf': 'tears running down my face',\n",
              " 'ttfn': 'ta ta for now',\n",
              " 'ttg': 'time to go',\n",
              " 'ttt': 'thought that too',\n",
              " 'tttt': 'these things take time',\n",
              " 'ttyl': 'talk to you later',\n",
              " 'tu': 'thank you',\n",
              " 'twhab': 'this won’t hurt a bit',\n",
              " 'twiwi': 'that was interesting wasn’t it?',\n",
              " 'tyvm': 'thank you very much',\n",
              " 'u-l?': 'you will?',\n",
              " 'uv': 'unpleasant visual',\n",
              " 'uw': 'you’re welcome',\n",
              " 'vbg': 'very big grin',\n",
              " 'vbs': 'very big smile',\n",
              " 'veg': 'very evil grin',\n",
              " 'vsf': 'very sad face',\n",
              " 'w/e': 'whatever',\n",
              " 'wad': 'without a doubt',\n",
              " 'wai': 'what an idiot',\n",
              " 'wb': 'welcome back or write back',\n",
              " 'wc': 'who cares?',\n",
              " 'wdalyic': 'who died and left you in charge?',\n",
              " 'wdys': 'what did you say?',\n",
              " 'wdyt': 'what do you think?',\n",
              " 'weg': 'wicked evil grin',\n",
              " 'weu': 'what’s eating you?',\n",
              " 'wfm': 'works for me',\n",
              " 'wibni': 'wouldn’t it be nice if',\n",
              " 'wt?': 'what the or who the',\n",
              " 'wtg': 'way to go',\n",
              " 'wtgp': 'want to go private?',\n",
              " 'wth': 'what/who the heck',\n",
              " 'wuf': 'where are you from?',\n",
              " 'wwjd': 'what would jesus do?',\n",
              " 'wwy': 'where were you?',\n",
              " 'wycm': 'will you call me?',\n",
              " 'wyrn': 'what’s your real name?',\n",
              " 'wysiwyg': 'what you see is what you get',\n",
              " 'wyslpg': 'what you see looks pretty good',\n",
              " 'x-1-10': 'exciting',\n",
              " 'xme': 'excuse me',\n",
              " 'xoxo': 'hugs and kisses',\n",
              " 'yaa': 'yet another acronym',\n",
              " 'ybs': 'you’ll be sorry',\n",
              " 'ydkm': 'you don’t know me',\n",
              " 'yg': 'young gentleman',\n",
              " 'ygbk': 'you gotta be kiddin’',\n",
              " 'yhm': 'you have mail',\n",
              " 'ykw?': 'you know what?',\n",
              " 'yl': 'young lady',\n",
              " 'ym': 'young man',\n",
              " 'ynk': 'you never know',\n",
              " 'yoyo': 'you’re on your own',\n",
              " 'yr': 'yeah right',\n",
              " 'ys': 'you stinker',\n",
              " 'ysyd': 'yeah, sure you do',\n",
              " 'yttt': 'you telling the truth?',\n",
              " 'yvw': 'you’re very welcome',\n",
              " 'yw': 'you’re welcome',\n",
              " 'ywia': 'you’re welcome in advance',\n",
              " 'yyssw': 'yeah, yeah, sure, sure, whatever',\n",
              " 'zz': 'sleeping, bored, tired'}"
            ]
          },
          "metadata": {},
          "execution_count": 7
        }
      ]
    },
    {
      "cell_type": "code",
      "source": [
        "def substitute_abbreviations(tokens):\n",
        "  filtered_tokens = []\n",
        "  for t in tokens:\n",
        "    if t in abbreviations_map2:\n",
        "      filtered_tokens.extend(abbreviations_map2[t].split())\n",
        "    else:\n",
        "      filtered_tokens.append(t)\n",
        "  return filtered_tokens\n",
        "\n",
        "print(substitute_abbreviations(['rofl', 'its', 'true', 'to', 'its', 'name']))"
      ],
      "metadata": {
        "colab": {
          "base_uri": "https://localhost:8080/"
        },
        "id": "bM6BIW3denUO",
        "outputId": "aa8c3140-6783-4fcc-9b3c-d045141fc657"
      },
      "execution_count": 8,
      "outputs": [
        {
          "output_type": "stream",
          "name": "stdout",
          "text": [
            "['rolling', 'on', 'floor', 'laughing', 'its', 'true', 'to', 'its', 'name']\n"
          ]
        }
      ]
    },
    {
      "cell_type": "code",
      "source": [
        "import string\n",
        "string.punctuation"
      ],
      "metadata": {
        "colab": {
          "base_uri": "https://localhost:8080/",
          "height": 36
        },
        "id": "BXgMPD27ghux",
        "outputId": "df7b6d76-f83a-4e16-f8ea-a8f5e74b932b"
      },
      "execution_count": 9,
      "outputs": [
        {
          "output_type": "execute_result",
          "data": {
            "text/plain": [
              "'!\"#$%&\\'()*+,-./:;<=>?@[\\\\]^_`{|}~'"
            ],
            "application/vnd.google.colaboratory.intrinsic+json": {
              "type": "string"
            }
          },
          "metadata": {},
          "execution_count": 9
        }
      ]
    },
    {
      "cell_type": "code",
      "source": [
        "messages = []\n",
        "for m in train_data['Message_body']:\n",
        "  # print(type(m))\n",
        "  sent_tokens = nltk.sent_tokenize(m)  # sentence tokenizing\n",
        "  tokens = []\n",
        "  for s in sent_tokens:\n",
        "    tokens.extend(nltk.word_tokenize(s)) # word tokenizing\n",
        "  only_tokens = []\n",
        "  for t in tokens:\n",
        "    if t in abbreviations_map2:\n",
        "      only_tokens.extend(abbreviations_map2[t].split())   # token expansion\n",
        "    elif (len(t)>0  #checking for empty string\n",
        "    and t.isalpha()  # only alphabetic characters\n",
        "    and t not in string.punctuation #removing puctuations\n",
        "    and t not in stopwords.words('english')):  #stop word removal\n",
        "      only_tokens.append(t)\n",
        "    # print(t)\n",
        "  messages.append(only_tokens)\n",
        "\n",
        "messages[16]"
      ],
      "metadata": {
        "colab": {
          "base_uri": "https://localhost:8080/"
        },
        "id": "vT--baexU6yX",
        "outputId": "56e51da5-6a9e-4df4-9862-96b0c6d16f2d"
      },
      "execution_count": 10,
      "outputs": [
        {
          "output_type": "execute_result",
          "data": {
            "text/plain": [
              "['yeh',\n",
              " 'indians',\n",
              " 'nice',\n",
              " 'tho',\n",
              " 'kane',\n",
              " 'bit',\n",
              " 'shud',\n",
              " 'go',\n",
              " 'drink',\n",
              " 'sometime',\n",
              " 'soon',\n",
              " 'mite',\n",
              " 'hav',\n",
              " 'go',\n",
              " 'da',\n",
              " 'works',\n",
              " 'laugh',\n",
              " 'soon',\n",
              " 'love',\n",
              " 'pete',\n",
              " 'x',\n",
              " 'x']"
            ]
          },
          "metadata": {},
          "execution_count": 10
        }
      ]
    },
    {
      "cell_type": "code",
      "source": [
        "# train_data['Message_body'] = train_data['Message_body'].apply(lambda x : substitute_abbreviations(x))"
      ],
      "metadata": {
        "id": "jKfXfEU6iJ6t"
      },
      "execution_count": 11,
      "outputs": []
    },
    {
      "cell_type": "markdown",
      "source": [
        "# **STEMMING**"
      ],
      "metadata": {
        "id": "NfdkJ8EZXa6M"
      }
    },
    {
      "cell_type": "code",
      "source": [
        "from nltk.stem import PorterStemmer\n",
        "\n",
        "stemmed_mssg = []\n",
        "pt = PorterStemmer()\n",
        "for m in messages:\n",
        "  l = []\n",
        "  for w in m:\n",
        "    l.append(pt.stem(w))\n",
        "  stemmed_mssg.append(l)\n",
        "\n",
        "stemmed_mssg[9]"
      ],
      "metadata": {
        "colab": {
          "base_uri": "https://localhost:8080/"
        },
        "id": "s7aCmo8HXbGH",
        "outputId": "5eaa827f-2541-466c-d5fa-a3a838f1dbdc"
      },
      "execution_count": 21,
      "outputs": [
        {
          "output_type": "execute_result",
          "data": {
            "text/plain": [
              "['ok',\n",
              " 'lor',\n",
              " 'soni',\n",
              " 'ericsson',\n",
              " 'salesman',\n",
              " 'ask',\n",
              " 'shuhui',\n",
              " 'say',\n",
              " 'quit',\n",
              " 'gd',\n",
              " 'use',\n",
              " 'signific',\n",
              " 'other',\n",
              " 'consid']"
            ]
          },
          "metadata": {},
          "execution_count": 21
        }
      ]
    },
    {
      "cell_type": "markdown",
      "source": [
        "# **LEMMATIZATION**"
      ],
      "metadata": {
        "id": "n-zZYFZviJFU"
      }
    },
    {
      "cell_type": "code",
      "source": [
        "from nltk.stem import WordNetLemmatizer\n",
        "lm= WordNetLemmatizer()\n",
        "nltk.download('wordnet')\n",
        "nltk.download('omw-1.4')"
      ],
      "metadata": {
        "colab": {
          "base_uri": "https://localhost:8080/"
        },
        "id": "PL-0Py0qbKOs",
        "outputId": "cd773d88-a24c-4e8b-96e0-a348f8b9fefa"
      },
      "execution_count": 12,
      "outputs": [
        {
          "output_type": "stream",
          "name": "stderr",
          "text": [
            "[nltk_data] Downloading package wordnet to /root/nltk_data...\n",
            "[nltk_data] Downloading package omw-1.4 to /root/nltk_data...\n"
          ]
        },
        {
          "output_type": "execute_result",
          "data": {
            "text/plain": [
              "True"
            ]
          },
          "metadata": {},
          "execution_count": 12
        }
      ]
    },
    {
      "cell_type": "code",
      "source": [
        "lemmatized_mssg = []\n",
        "for m in messages:\n",
        "  l = []\n",
        "  for w in m:\n",
        "    l.append(lm.lemmatize(w))\n",
        "  lemmatized_mssg.append(l)\n",
        "  "
      ],
      "metadata": {
        "id": "lotK_GhthOTs"
      },
      "execution_count": 13,
      "outputs": []
    },
    {
      "cell_type": "code",
      "source": [
        "lemmatized_mssg[9]"
      ],
      "metadata": {
        "colab": {
          "base_uri": "https://localhost:8080/"
        },
        "id": "1PmYhQgPnOSF",
        "outputId": "967f5e89-867b-47d1-fe8a-9a1ebe0843c7"
      },
      "execution_count": 14,
      "outputs": [
        {
          "output_type": "execute_result",
          "data": {
            "text/plain": [
              "['ok',\n",
              " 'lor',\n",
              " 'sony',\n",
              " 'ericsson',\n",
              " 'salesman',\n",
              " 'ask',\n",
              " 'shuhui',\n",
              " 'say',\n",
              " 'quite',\n",
              " 'gd',\n",
              " 'use',\n",
              " 'significant',\n",
              " 'other',\n",
              " 'considering']"
            ]
          },
          "metadata": {},
          "execution_count": 14
        }
      ]
    },
    {
      "cell_type": "markdown",
      "source": [
        "# **web scraping**"
      ],
      "metadata": {
        "id": "eJxibtQtoucg"
      }
    },
    {
      "cell_type": "code",
      "source": [
        "import requests\n",
        "import lxml\n",
        "from bs4 import BeautifulSoup"
      ],
      "metadata": {
        "id": "pSISoqZ0Nd3T"
      },
      "execution_count": 15,
      "outputs": []
    },
    {
      "cell_type": "code",
      "source": [
        "page = requests.get('https://www.englishclub.com/esl-chat/abbreviations.htm')"
      ],
      "metadata": {
        "id": "zShzjX0hNeRz"
      },
      "execution_count": 16,
      "outputs": []
    },
    {
      "cell_type": "code",
      "source": [
        "soup = BeautifulSoup(page.text,'lxml')\n",
        "soup"
      ],
      "metadata": {
        "id": "ExioLACiQcUv"
      },
      "execution_count": null,
      "outputs": []
    },
    {
      "cell_type": "code",
      "source": [
        "table_of_abbreviations = soup.find('table',{\"class\":'ec-table'})"
      ],
      "metadata": {
        "id": "cW70pcCQQwLn"
      },
      "execution_count": 18,
      "outputs": []
    },
    {
      "cell_type": "code",
      "source": [
        "abbreviations_map = dict()\n",
        "for r in table_of_abbreviations.find_all('tr'):\n",
        "  i,j = r.find_all('td')\n",
        "  abbreviations_map[i.text] = j.text\n",
        "\n",
        "abbreviations_map"
      ],
      "metadata": {
        "colab": {
          "base_uri": "https://localhost:8080/"
        },
        "id": "0miJIaZjRmqp",
        "outputId": "86173a82-4fdf-4503-b15e-9248d6f305c1"
      },
      "execution_count": 19,
      "outputs": [
        {
          "output_type": "execute_result",
          "data": {
            "text/plain": [
              "{'2': 'to',\n",
              " '2mrw': 'tomorrow',\n",
              " '4': 'for',\n",
              " '<3': 'love',\n",
              " '?4U': 'I have a question for you.',\n",
              " 'A/S/L': 'age/sex/location',\n",
              " 'AFK': 'away from keyboard',\n",
              " 'AKA': 'also known as',\n",
              " 'ASAP': 'as soon as possible',\n",
              " 'AYT': 'Are you there?',\n",
              " 'B2W': 'back to work',\n",
              " 'B4': 'before',\n",
              " 'BBL': 'Be back later',\n",
              " 'BBS': 'Be back soon',\n",
              " 'BF': 'boyfriend',\n",
              " 'BFF': 'best friend(s) forever',\n",
              " 'BRB': 'Be right back',\n",
              " 'BTW': 'by the way',\n",
              " 'CMB': 'Call me back',\n",
              " 'CMIIW': \"Correct me if I'm wrong\",\n",
              " 'CU': 'See you',\n",
              " 'CU L8R': 'See you later',\n",
              " 'CUZ/COS': 'because',\n",
              " 'CWYL': 'Chat with you later',\n",
              " 'DC': 'disconnected',\n",
              " 'DIY': 'Do it yourself',\n",
              " 'DM': 'Direct Message',\n",
              " 'F2F': 'face-to-face',\n",
              " 'FAQ': 'frequently asked questions',\n",
              " 'FB': 'Facebook',\n",
              " 'FYEO': 'for your eyes only',\n",
              " 'FYI': 'for your information',\n",
              " '^^': 'Read line above'}"
            ]
          },
          "metadata": {},
          "execution_count": 19
        }
      ]
    }
  ]
}